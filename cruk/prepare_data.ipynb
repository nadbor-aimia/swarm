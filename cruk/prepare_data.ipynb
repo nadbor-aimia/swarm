{
 "cells": [
  {
   "cell_type": "markdown",
   "metadata": {},
   "source": [
    "## nothing interesting here, just reading the csv files into spark and saving in parquet format"
   ]
  },
  {
   "cell_type": "code",
   "execution_count": 2,
   "metadata": {
    "collapsed": false
   },
   "outputs": [
    {
     "name": "stdout",
     "output_type": "stream",
     "text": [
      "total 5.3G\r\n",
      "drwxr-xr-x 3 ubuntu ubuntu 4.0K Mar  8 12:15 \u001b[0m\u001b[01;34m.\u001b[0m/\r\n",
      "drwxrwxr-x 6 ubuntu ubuntu 4.0K Mar  8 10:15 \u001b[01;34m..\u001b[0m/\r\n",
      "-rw-rw-r-- 1 ubuntu ubuntu 1.0K Mar  8 11:55 .RAW_PAY_COMBINED_NEW2017-03-07 22-11-25.txt.swp\r\n",
      "-rwxr-xr-x 1 ubuntu ubuntu  51M Mar  8 11:12 \u001b[01;32mAGG_LTV2017-03-08 09-16-22.txt\u001b[0m*\r\n",
      "-rw-rw-r-- 1 ubuntu ubuntu 4.3G Mar  7 23:50 RAW_PAY_COMBINED_NEW2017-03-07 22-11-25.txt\r\n",
      "-rwxr-xr-x 1 ubuntu ubuntu 184M Mar  8 11:12 \u001b[01;32mRAW_PAY_COMBINED_NEW2017-03-07 22-11-25.zip\u001b[0m*\r\n",
      "-rw-rw-r-- 1 ubuntu ubuntu  85M Mar  8 11:21 RAW_REGISTRATIONS.csv\r\n",
      "-rw-rw-r-- 1 ubuntu ubuntu 768M Mar  8 11:21 Supporter Demographics Final\r\n",
      "-rw-rw-r-- 1 ubuntu ubuntu  725 Mar  8 11:50 derby.log\r\n",
      "-rw-rw-r-- 1 ubuntu ubuntu   20 Mar  8 12:02 f.log\r\n",
      "drwxr-xr-x 2 ubuntu ubuntu 4.0K Mar  8 10:23 \u001b[01;34mold_cruk\u001b[0m/\r\n",
      "-rw-rw-r-- 1 ubuntu ubuntu  104 Mar  8 11:58 raw_payments2\r\n",
      "-rw-rw-r-- 1 ubuntu ubuntu 1.2K Mar  8 12:15 tinypay\r\n"
     ]
    }
   ],
   "source": [
    "ls -lah /home/ubuntu/workspace/cruk_data/"
   ]
  },
  {
   "cell_type": "code",
   "execution_count": 1,
   "metadata": {
    "collapsed": true
   },
   "outputs": [],
   "source": [
    "import utils"
   ]
  },
  {
   "cell_type": "code",
   "execution_count": 5,
   "metadata": {
    "collapsed": false
   },
   "outputs": [],
   "source": [
    "payments_raw = spark.read.csv(utils.raw_pay_path, sep=\"|\", quote=\"'\", header=True, inferSchema=True)"
   ]
  },
  {
   "cell_type": "code",
   "execution_count": 8,
   "metadata": {
    "collapsed": false
   },
   "outputs": [],
   "source": [
    "payments_raw.write.parquet(utils.pay_path)"
   ]
  },
  {
   "cell_type": "code",
   "execution_count": 11,
   "metadata": {
    "collapsed": false
   },
   "outputs": [],
   "source": [
    "registrations_raw = spark.read.csv(utils.reg_path_raw, header=True, inferSchema=True)"
   ]
  },
  {
   "cell_type": "code",
   "execution_count": 13,
   "metadata": {
    "collapsed": false
   },
   "outputs": [],
   "source": [
    "registrations_raw.write.parquet(utils.reg_path)"
   ]
  },
  {
   "cell_type": "code",
   "execution_count": 14,
   "metadata": {
    "collapsed": true
   },
   "outputs": [],
   "source": [
    "demo_raw = spark.read.csv(utils.demo_path_raw, header=True, inferSchema=True)"
   ]
  },
  {
   "cell_type": "code",
   "execution_count": null,
   "metadata": {
    "collapsed": false
   },
   "outputs": [],
   "source": []
  },
  {
   "cell_type": "code",
   "execution_count": 22,
   "metadata": {
    "collapsed": false
   },
   "outputs": [],
   "source": [
    "(\n",
    "    demo_raw\n",
    "    .withColumnRenamed('Age Bands', 'age_bands')\n",
    "    .withColumnRenamed('Mosaic Description', 'mosaic_description')\n",
    "    .withColumnRenamed('Financial Stress', 'financial_stress')\n",
    "    .withColumnRenamed('Household Income', 'household_income')\n",
    "    .write.parquet(utils.demo_path)\n",
    ")"
   ]
  },
  {
   "cell_type": "code",
   "execution_count": null,
   "metadata": {
    "collapsed": true
   },
   "outputs": [],
   "source": []
  },
  {
   "cell_type": "code",
   "execution_count": null,
   "metadata": {
    "collapsed": true
   },
   "outputs": [],
   "source": []
  },
  {
   "cell_type": "code",
   "execution_count": null,
   "metadata": {
    "collapsed": true
   },
   "outputs": [],
   "source": []
  },
  {
   "cell_type": "code",
   "execution_count": 23,
   "metadata": {
    "collapsed": false
   },
   "outputs": [
    {
     "name": "stdout",
     "output_type": "stream",
     "text": [
      "root\n",
      " |-- CONTACT_WID: integer (nullable = true)\n",
      " |-- EVENT_CODE: string (nullable = true)\n",
      " |-- REGISTRATION_DATE: timestamp (nullable = true)\n",
      " |-- PRODUCT: string (nullable = true)\n",
      " |-- SUB_PRODUCT: string (nullable = true)\n",
      "\n"
     ]
    }
   ],
   "source": [
    "registrations_raw.printSchema()"
   ]
  },
  {
   "cell_type": "code",
   "execution_count": null,
   "metadata": {
    "collapsed": true
   },
   "outputs": [],
   "source": []
  }
 ],
 "metadata": {
  "kernelspec": {
   "display_name": "Python 2",
   "language": "python",
   "name": "python2"
  },
  "language_info": {
   "codemirror_mode": {
    "name": "ipython",
    "version": 2
   },
   "file_extension": ".py",
   "mimetype": "text/x-python",
   "name": "python",
   "nbconvert_exporter": "python",
   "pygments_lexer": "ipython2",
   "version": "2.7.12"
  }
 },
 "nbformat": 4,
 "nbformat_minor": 2
}
