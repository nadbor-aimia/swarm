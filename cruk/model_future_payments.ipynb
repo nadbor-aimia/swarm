{
 "cells": [
  {
   "cell_type": "code",
   "execution_count": 1,
   "metadata": {
    "collapsed": true
   },
   "outputs": [],
   "source": [
    "import utils"
   ]
  },
  {
   "cell_type": "markdown",
   "metadata": {
    "collapsed": true
   },
   "source": [
    "load everything up in spark, nothing interesting here"
   ]
  },
  {
   "cell_type": "code",
   "execution_count": 4,
   "metadata": {
    "collapsed": false
   },
   "outputs": [],
   "source": [
    "payments = spark.read.parquet(utils.pay_path)"
   ]
  },
  {
   "cell_type": "code",
   "execution_count": 5,
   "metadata": {
    "collapsed": true
   },
   "outputs": [],
   "source": [
    "registrations = spark.read.parquet(utils.reg_path)"
   ]
  },
  {
   "cell_type": "code",
   "execution_count": 6,
   "metadata": {
    "collapsed": true
   },
   "outputs": [],
   "source": [
    "demo = spark.read.parquet(utils.demo_path)"
   ]
  },
  {
   "cell_type": "markdown",
   "metadata": {},
   "source": [
    "register dataframes as views so we can do sql on them"
   ]
  },
  {
   "cell_type": "code",
   "execution_count": 11,
   "metadata": {
    "collapsed": false
   },
   "outputs": [],
   "source": [
    "payments.createOrReplaceTempView('payments')\n",
    "registrations.createOrReplaceTempView('registrations')\n",
    "demo.createOrReplaceTempView('demo')"
   ]
  },
  {
   "cell_type": "code",
   "execution_count": 12,
   "metadata": {
    "collapsed": false
   },
   "outputs": [
    {
     "name": "stdout",
     "output_type": "stream",
     "text": [
      "root\n",
      " |-- CONTACT_WID: integer (nullable = true)\n",
      " |-- SEX_MF_CD_I: string (nullable = true)\n",
      " |-- Affluence: double (nullable = true)\n",
      " |-- age_bands: string (nullable = true)\n",
      " |-- _Region: string (nullable = true)\n",
      " |-- mosaic_description: string (nullable = true)\n",
      " |-- financial_stress: string (nullable = true)\n",
      " |-- household_income: string (nullable = true)\n",
      " |-- Soft_Match_Key: integer (nullable = true)\n",
      "\n"
     ]
    }
   ],
   "source": [
    "demo.printSchema()"
   ]
  },
  {
   "cell_type": "code",
   "execution_count": 13,
   "metadata": {
    "collapsed": false
   },
   "outputs": [
    {
     "name": "stdout",
     "output_type": "stream",
     "text": [
      "root\n",
      " |-- CONTACT_WID: integer (nullable = true)\n",
      " |-- PAYMENT_DATE: timestamp (nullable = true)\n",
      " |-- PAY_AMOUNT: double (nullable = true)\n",
      " |-- PRODUCT_CODE: string (nullable = true)\n",
      " |-- EVENT_CODE: string (nullable = true)\n",
      " |-- CATEGORY: string (nullable = true)\n",
      " |-- PRODUCT: string (nullable = true)\n",
      " |-- SUB_PRODUCT: string (nullable = true)\n",
      " |-- RESTRICTED_CAT: string (nullable = true)\n",
      "\n"
     ]
    }
   ],
   "source": [
    "payments.printSchema()"
   ]
  },
  {
   "cell_type": "code",
   "execution_count": 14,
   "metadata": {
    "collapsed": false
   },
   "outputs": [
    {
     "name": "stdout",
     "output_type": "stream",
     "text": [
      "root\n",
      " |-- CONTACT_WID: integer (nullable = true)\n",
      " |-- EVENT_CODE: string (nullable = true)\n",
      " |-- REGISTRATION_DATE: timestamp (nullable = true)\n",
      " |-- PRODUCT: string (nullable = true)\n",
      " |-- SUB_PRODUCT: string (nullable = true)\n",
      "\n"
     ]
    }
   ],
   "source": [
    "registrations.printSchema()"
   ]
  },
  {
   "cell_type": "markdown",
   "metadata": {},
   "source": [
    "split dataset into halves. We are going to try to predict total payments in 2016 based on behaviour in 2015"
   ]
  },
  {
   "cell_type": "code",
   "execution_count": 28,
   "metadata": {
    "collapsed": false
   },
   "outputs": [],
   "source": [
    "payments2016 = payments.filter(\"PAYMENT_DATE >= '2016-01-01'\")\n",
    "payments2016.createOrReplaceTempView('payments2016')\n",
    "payments2015 = payments.filter(\"PAYMENT_DATE < '2016-01-01'\")\n",
    "payments2015.createOrReplaceTempView('payments2015')"
   ]
  },
  {
   "cell_type": "code",
   "execution_count": 29,
   "metadata": {
    "collapsed": false
   },
   "outputs": [],
   "source": [
    "customers = payments2015.select('CONTACT_WID').distinct()\n",
    "customers.createOrReplaceTempView('customers')"
   ]
  },
  {
   "cell_type": "markdown",
   "metadata": {},
   "source": [
    "extract features - all things that might be predictive of future payments. So: total past payments broken by category, payment counts, average payment; also demographics"
   ]
  },
  {
   "cell_type": "code",
   "execution_count": 266,
   "metadata": {
    "collapsed": false
   },
   "outputs": [],
   "source": [
    "totals2015 = spark.sql(\"\"\"\n",
    "    select\n",
    "        CONTACT_WID,\n",
    "        avg(pay_amount) as avg_payment,\n",
    "        sum(pay_amount) as total_payment,\n",
    "        count(1) as payment_count,\n",
    "        sum(case when category = 'Standing Orders' then pay_amount else 0 end) as standing_orders_tot,\n",
    "        sum(case when category = 'Standing Orders' then 1 else 0 end) as standing_orders_count,\n",
    "        sum(case when category = 'Sponsorship/Donations' then pay_amount else 0 end) as sponsorship_donations_tot,\n",
    "        sum(case when category = 'Sponsorship/Donations' then 1 else 0 end) as sponsorship_donations_count,\n",
    "        sum(case when category = 'Fees' then pay_amount else 0 end) as fees_tot,\n",
    "        sum(case when category = 'Fees' then 1 else 0 end) as fees_count,\n",
    "        sum(case when category = 'Direct Debit' then pay_amount else 0 end) as direct_debit_tot,\n",
    "        sum(case when category = 'Direct Debit' then 1 else 0 end) as direct_debit_count,\n",
    "        sum(case when category = 'Corporate Partnerships' then pay_amount else 0 end) as corporate_partnerships_tot,\n",
    "        sum(case when category = 'Corporate Partnerships' then 1 else 0 end) as corporate_partnerships_count,\n",
    "        sum(case when category = 'Volunteer Fundraising' then pay_amount else 0 end) as volunteer_fundraising_tot,\n",
    "        sum(case when category = 'Volunteer Fundraising' then 1 else 0 end) as volunteer_fundraising_count,\n",
    "        sum(case when category = 'Lottery' then pay_amount else 0 end) as lottery_tot,\n",
    "        sum(case when category = 'Lottery' then 1 else 0 end) as lottery_count,\n",
    "        sum(case when category = 'Legacy' then pay_amount else 0 end) as legacy_tot,\n",
    "        sum(case when category = 'Legacy' then 1 else 0 end) as legacy_count,\n",
    "        sum(case when category = 'Trading' then pay_amount else 0 end) as trading_tot,\n",
    "        sum(case when category = 'Trading' then 1 else 0 end) as trading_count,\n",
    "        sum(case when category = 'Admin' then pay_amount else 0 end) as admin_tot,\n",
    "        sum(case when category = 'Admin' then 1 else 0 end) as admin_count,\n",
    "        sum(case when category = 'Catering' then pay_amount else 0 end) as catering_tot,\n",
    "        sum(case when category = 'Catering' then 1 else 0 end) as catering_count,\n",
    "        sum(case when category = 'Raffle' then pay_amount else 0 end) as raffle_tot,\n",
    "        sum(case when category = 'Raffle' then 1 else 0 end) as raffle_count,\n",
    "        sum(case when category = 'Give As You Earn' then pay_amount else 0 end) as give_as_you_earn_tot,\n",
    "        sum(case when category = 'Give As You Earn' then 1 else 0 end) as give_as_you_earn_count,\n",
    "        sum(case when category = 'In Memory' then pay_amount else 0 end) as in_memory_tot,\n",
    "        sum(case when category = 'In Memory' then 1 else 0 end) as in_memory_count,\n",
    "        sum(case when category = 'IG' then pay_amount else 0 end) as ig_tot,\n",
    "        sum(case when category = 'IG' then 1 else 0 end) as ig_count,\n",
    "        sum(case when category = 'Favours' then pay_amount else 0 end) as favours_tot,\n",
    "        sum(case when category = 'Favours' then 1 else 0 end) as favours_count\n",
    "\n",
    "        \n",
    "    from payments2015\n",
    "    group by CONTACT_WID\n",
    "\"\"\")\n",
    "totals2015.createOrReplaceTempView('totals2015')\n",
    "totals2016 = spark.sql(\"\"\"\n",
    "    select\n",
    "        CONTACT_WID,\n",
    "        avg(pay_amount) as avg_payment,\n",
    "        sum(pay_amount) as total_payment,\n",
    "        count(1) as payment_count,\n",
    "        sum(case when category = 'Standing Orders' then pay_amount else 0 end) as standing_orders_tot,\n",
    "        sum(case when category = 'Standing Orders' then 1 else 0 end) as standing_orders_count,\n",
    "        sum(case when category = 'Sponsorship/Donations' then pay_amount else 0 end) as sponsorship_donations_tot,\n",
    "        sum(case when category = 'Sponsorship/Donations' then 1 else 0 end) as sponsorship_donations_count,\n",
    "        sum(case when category = 'Fees' then pay_amount else 0 end) as fees_tot,\n",
    "        sum(case when category = 'Fees' then 1 else 0 end) as fees_count,\n",
    "        sum(case when category = 'Direct Debit' then pay_amount else 0 end) as direct_debit_tot,\n",
    "        sum(case when category = 'Direct Debit' then 1 else 0 end) as direct_debit_count,\n",
    "        sum(case when category = 'Corporate Partnerships' then pay_amount else 0 end) as corporate_partnerships_tot,\n",
    "        sum(case when category = 'Corporate Partnerships' then 1 else 0 end) as corporate_partnerships_count,\n",
    "        sum(case when category = 'Volunteer Fundraising' then pay_amount else 0 end) as volunteer_fundraising_tot,\n",
    "        sum(case when category = 'Volunteer Fundraising' then 1 else 0 end) as volunteer_fundraising_count,\n",
    "        sum(case when category = 'Lottery' then pay_amount else 0 end) as lottery_tot,\n",
    "        sum(case when category = 'Lottery' then 1 else 0 end) as lottery_count,\n",
    "        sum(case when category = 'Legacy' then pay_amount else 0 end) as legacy_tot,\n",
    "        sum(case when category = 'Legacy' then 1 else 0 end) as legacy_count,\n",
    "        sum(case when category = 'Trading' then pay_amount else 0 end) as trading_tot,\n",
    "        sum(case when category = 'Trading' then 1 else 0 end) as trading_count,\n",
    "        sum(case when category = 'Admin' then pay_amount else 0 end) as admin_tot,\n",
    "        sum(case when category = 'Admin' then 1 else 0 end) as admin_count,\n",
    "        sum(case when category = 'Catering' then pay_amount else 0 end) as catering_tot,\n",
    "        sum(case when category = 'Catering' then 1 else 0 end) as catering_count,\n",
    "        sum(case when category = 'Raffle' then pay_amount else 0 end) as raffle_tot,\n",
    "        sum(case when category = 'Raffle' then 1 else 0 end) as raffle_count,\n",
    "        sum(case when category = 'Give As You Earn' then pay_amount else 0 end) as give_as_you_earn_tot,\n",
    "        sum(case when category = 'Give As You Earn' then 1 else 0 end) as give_as_you_earn_count,\n",
    "        sum(case when category = 'In Memory' then pay_amount else 0 end) as in_memory_tot,\n",
    "        sum(case when category = 'In Memory' then 1 else 0 end) as in_memory_count,\n",
    "        sum(case when category = 'IG' then pay_amount else 0 end) as ig_tot,\n",
    "        sum(case when category = 'IG' then 1 else 0 end) as ig_count,\n",
    "        sum(case when category = 'Favours' then pay_amount else 0 end) as favours_tot,\n",
    "        sum(case when category = 'Favours' then 1 else 0 end) as favours_count\n",
    "\n",
    "    from payments2016\n",
    "    group by CONTACT_WID\n",
    "\"\"\")\n",
    "totals2016.createOrReplaceTempView('totals2016')\n",
    "\n",
    "# this is the final training set\n",
    "train_set = spark.sql(\"\"\"\n",
    "    select\n",
    "        past.CONTACT_WID,\n",
    "        future.total_payment as FUTURE_TOTAL,\n",
    "        past.avg_payment,\n",
    "        log(past.total_payment) as log_total_payment,\n",
    "        past.total_payment,\n",
    "        past.payment_count,\n",
    "        past.standing_orders_tot,\n",
    "        past.standing_orders_count,\n",
    "        past.sponsorship_donations_tot,\n",
    "        past.sponsorship_donations_count,\n",
    "        past.fees_tot,\n",
    "        past.fees_count,\n",
    "        past.direct_debit_tot,\n",
    "        past.direct_debit_count,\n",
    "        past.corporate_partnerships_tot,\n",
    "        past.corporate_partnerships_count,\n",
    "        past.volunteer_fundraising_tot,\n",
    "        past.volunteer_fundraising_count,\n",
    "        past.lottery_tot,\n",
    "        past.lottery_count,\n",
    "        past.legacy_tot,\n",
    "        past.legacy_count,\n",
    "        past.trading_tot,\n",
    "        past.trading_count,\n",
    "        past.admin_tot,\n",
    "        past.admin_count,\n",
    "        past.catering_tot,\n",
    "        past.catering_count,\n",
    "        past.raffle_tot,\n",
    "        past.raffle_count,\n",
    "        past.give_as_you_earn_tot,\n",
    "        past.give_as_you_earn_count,\n",
    "        past.in_memory_tot,\n",
    "        past.in_memory_count,\n",
    "        past.ig_tot,\n",
    "        past.ig_count,\n",
    "        past.favours_tot,\n",
    "        past.favours_count,\n",
    "        future.standing_orders_tot as standing_orders_future_tot,\n",
    "        future.sponsorship_donations_tot as sponsorship_donations_future_tot,\n",
    "        future.fees_tot as fees_future_tot,\n",
    "        future.direct_debit_tot as direct_debit_future_tot,\n",
    "        future.corporate_partnerships_tot as corporate_partnerships_future_tot,\n",
    "        future.volunteer_fundraising_tot as volunteer_fundraising_future_tot,\n",
    "        future.lottery_tot as lottery_future_tot,\n",
    "        future.legacy_tot as legacy_future_tot,\n",
    "        future.trading_tot as trading_future_tot,\n",
    "        future.admin_tot as admin_future_tot,\n",
    "        future.catering_tot as catering_future_tot,\n",
    "        future.raffle_tot as raffle_future_tot,\n",
    "        future.give_as_you_earn_tot as give_as_you_earn_future_tot,\n",
    "        future.in_memory_tot as in_memory_future_tot,\n",
    "        future.ig_tot as ig_future_tot,\n",
    "        future.favours_tot as favours_future_tot,\n",
    "\n",
    "        SEX_MF_CD_I,\n",
    "        age_bands,\n",
    "        mosaic_description,\n",
    "        _Region,\n",
    "        financial_stress\n",
    "    from totals2015 past\n",
    "    inner join totals2016 future on\n",
    "        past.CONTACT_WID = future.CONTACT_WID\n",
    "    inner join demo on\n",
    "        demo.CONTACT_WID = past.CONTACT_WID    \n",
    "\"\"\")\n",
    "train_set.createOrReplaceTempView('train_set')\n"
   ]
  },
  {
   "cell_type": "markdown",
   "metadata": {
    "collapsed": true
   },
   "source": [
    "convert from spark dataframe to pandas dataframe and shuffle the records just in case"
   ]
  },
  {
   "cell_type": "code",
   "execution_count": 267,
   "metadata": {
    "collapsed": true
   },
   "outputs": [],
   "source": [
    "train_df_raw = train_set.toPandas()\n",
    "train_df_raw = train_df_raw.sample(frac=1).reset_index(drop=True)\n",
    "# train_df_raw['payment_count'] = train_df_raw.payment_count + 0.0\n",
    "train_df = train_df_raw.copy()"
   ]
  },
  {
   "cell_type": "markdown",
   "metadata": {},
   "source": [
    "some columns are strings, so they need to be encoded before training the model"
   ]
  },
  {
   "cell_type": "code",
   "execution_count": 268,
   "metadata": {
    "collapsed": true
   },
   "outputs": [],
   "source": [
    "from sklearn.preprocessing import LabelEncoder\n",
    "from collections import defaultdict\n",
    "string_columns = ['SEX_MF_CD_I', 'age_bands', 'mosaic_description', '_Region', 'financial_stress']\n",
    "\n",
    "def encode_string_cols(df, columns, encoder_dict):\n",
    "    for c in columns:\n",
    "        df[c] = encoder_dict[c].fit_transform(df[c])\n",
    "\n",
    "encoders = defaultdict(LabelEncoder)\n",
    "encode_string_cols(train_df, string_columns, encoders)"
   ]
  },
  {
   "cell_type": "code",
   "execution_count": 357,
   "metadata": {
    "collapsed": false
   },
   "outputs": [
    {
     "data": {
      "text/plain": [
       "1286382"
      ]
     },
     "execution_count": 357,
     "metadata": {},
     "output_type": "execute_result"
    }
   ],
   "source": [
    "# this is how many training examples we have\n",
    "len(train_df)"
   ]
  },
  {
   "cell_type": "markdown",
   "metadata": {
    "collapsed": false
   },
   "source": [
    "let's use the first million for training and the rest for testing.\n",
    "\n",
    "**We will be predicting total spend in 2016 (FUTURE_TOTAL) based on all kinds of things measured in 2015**"
   ]
  },
  {
   "cell_type": "code",
   "execution_count": 315,
   "metadata": {
    "collapsed": false
   },
   "outputs": [],
   "source": [
    "train_n = 1000000\n",
    "\n",
    "feat_names = [\n",
    "    'avg_payment',\n",
    "    'total_payment',\n",
    "    'log_total_payment',\n",
    "    'payment_count',\n",
    "    'SEX_MF_CD_I',\n",
    "    'age_bands',\n",
    "    'mosaic_description',\n",
    "    '_Region',\n",
    "    'financial_stress',\n",
    "    \"standing_orders_tot\",\n",
    "    \"sponsorship_donations_tot\",\n",
    "    \"fees_tot\",\n",
    "    \"direct_debit_tot\",\n",
    "    \"corporate_partnerships_tot\",\n",
    "    \"volunteer_fundraising_tot\",\n",
    "    \"lottery_tot\",\n",
    "    \"legacy_tot\",\n",
    "    \"trading_tot\",\n",
    "    \"admin_tot\",\n",
    "    \"catering_tot\",\n",
    "    \"raffle_tot\",\n",
    "    \"give_as_you_earn_tot\",\n",
    "    \"in_memory_tot\",\n",
    "    \"ig_tot\",\n",
    "    \"favours_tot\",\n",
    "]\n",
    "\n",
    "target_name = 'FUTURE_TOTAL'\n",
    "X = train_df[feat_names]\n",
    "y = train_df[target_name]\n",
    "\n",
    "X_train = X[:train_n]\n",
    "y_train = y[:train_n]\n",
    "\n",
    "X_test = X[train_n:]\n",
    "y_test = y[train_n:]\n"
   ]
  },
  {
   "cell_type": "markdown",
   "metadata": {},
   "source": [
    "functions for benchmarking"
   ]
  },
  {
   "cell_type": "code",
   "execution_count": 358,
   "metadata": {
    "collapsed": true
   },
   "outputs": [],
   "source": [
    "from sklearn.metrics import mean_absolute_error, mean_squared_error\n",
    "\n",
    "def model_name(model):\n",
    "    return str(model).split(\"(\")[0]\n",
    "\n",
    "def benchmark(model):\n",
    "    predictions = model.fit(X_train, y_train).predict(X_test)\n",
    "    score1 = mean_squared_error(y_test, predictions)\n",
    "    score2 = mean_absolute_error(y_test, predictions)\n",
    "    print 'MSE:', score1, 'MAD:', score2, model_name(model)\n",
    "\n",
    "def fbenchmark(model):\n",
    "    preds = model.fit(X, y).predict(X)\n",
    "    score1 = mean_squared_error(y, predictions)\n",
    "    score2 = mean_absolute_error(y, predictions)\n",
    "    print score1, score2, model_name(model)"
   ]
  },
  {
   "cell_type": "code",
   "execution_count": 359,
   "metadata": {
    "collapsed": false
   },
   "outputs": [
    {
     "name": "stdout",
     "output_type": "stream",
     "text": [
      "MSE: 11792594.3259 MAD: 262.11615679 LinearRegression\n",
      "MSE: 11916356.2453 MAD: 82.8346297361 XGBRegressor\n",
      "MSE: 14834967.977 MAD: 106.064352106 DummyRegressor\n",
      "MSE: 13334594.2389 MAD: 74.351193782 RandomForestRegressor\n"
     ]
    }
   ],
   "source": [
    "# COMPARING A FEW MODELS\n",
    "from xgboost import XGBRegressor\n",
    "from sklearn.linear_model import LinearRegression, Ridge\n",
    "from sklearn.dummy import DummyRegressor\n",
    "from sklearn.ensemble import RandomForestRegressor\n",
    "\n",
    "benchmark(LinearRegression())\n",
    "benchmark(XGBRegressor())\n",
    "benchmark(DummyRegressor())\n",
    "benchmark(RandomForestRegressor())"
   ]
  },
  {
   "cell_type": "markdown",
   "metadata": {},
   "source": [
    "<img src=\"http://s2.quickmeme.com/img/e2/e2494b2dae9d4c537141a47eaad0913f6732f4839e20513804ad74f4fa7d28be.jpg\">"
   ]
  },
  {
   "cell_type": "markdown",
   "metadata": {},
   "source": [
    "### good news everyone!\n",
    "MAD and MSE scores achieved by the best model (XGB) are significantly better than flat prediction (Dummy Regressor)\n",
    "\n",
    "\n",
    "Let's now train the model on full data and make an on-line predictor that we can test on handcrafted examples"
   ]
  },
  {
   "cell_type": "code",
   "execution_count": null,
   "metadata": {
    "collapsed": true
   },
   "outputs": [],
   "source": [
    "xgb = XGBRegressor().fit(X, y)"
   ]
  },
  {
   "cell_type": "code",
   "execution_count": 360,
   "metadata": {
    "collapsed": false
   },
   "outputs": [],
   "source": [
    "import pandas as pd\n",
    "\n",
    "def predict(model, \n",
    "    avg_payment=4,\n",
    "    total_payment=48,\n",
    "    payment_count=12,\n",
    "    standing_orders_tot=0,\n",
    "    sponsorship_donations_tot=0,\n",
    "    fees_tot=0,\n",
    "    direct_debit_tot=0,\n",
    "    corporate_partnerships_tot=0,\n",
    "    volunteer_fundraising_tot=0,\n",
    "    lottery_tot=0,\n",
    "    legacy_tot=0,\n",
    "    trading_tot=0,\n",
    "    admin_tot=0,\n",
    "    catering_tot=0,\n",
    "    raffle_tot=0,\n",
    "    give_as_you_earn_tot=0,\n",
    "    in_memory_tot=0,\n",
    "    ig_tot=0,\n",
    "    favours_tot=0,\n",
    "    SEX_MF_CD_I='Female',\n",
    "    age_bands='46-55',\n",
    "    mosaic_description='Prestige Positions',\n",
    "    _Region='SOUTH EAST',\n",
    "    financial_stress='Low  '):\n",
    "    \n",
    "    \n",
    "    feats = [\n",
    "        avg_payment,\n",
    "        total_payment,\n",
    "        np.log(total_payment),\n",
    "        payment_count,\n",
    "        SEX_MF_CD_I,\n",
    "        age_bands,\n",
    "        mosaic_description,\n",
    "        _Region,\n",
    "        financial_stress,\n",
    "        standing_orders_tot,\n",
    "        sponsorship_donations_tot,\n",
    "        fees_tot,\n",
    "        direct_debit_tot,\n",
    "        corporate_partnerships_tot,\n",
    "        volunteer_fundraising_tot,\n",
    "        lottery_tot,\n",
    "        legacy_tot,\n",
    "        trading_tot,\n",
    "        admin_tot,\n",
    "        catering_tot,\n",
    "        raffle_tot,\n",
    "        give_as_you_earn_tot,\n",
    "        in_memory_tot,\n",
    "        ig_tot,\n",
    "        favours_tot]\n",
    "    dataf = pd.DataFrame({\n",
    "        fname: encoders[fname].transform([feat]) if fname in encoders else [feat]\n",
    "        for fname, feat in zip(feat_names, feats)\n",
    "    })\n",
    "    dataf = dataf[feat_names]\n",
    "    return model.predict(dataf)\n",
    "\n",
    "def predict_exp(*args, **kwargs):\n",
    "    return np.exp(predict(*args, **kwargs))"
   ]
  },
  {
   "cell_type": "code",
   "execution_count": 361,
   "metadata": {
    "collapsed": false
   },
   "outputs": [
    {
     "data": {
      "text/plain": [
       "95.013359"
      ]
     },
     "execution_count": 361,
     "metadata": {},
     "output_type": "execute_result"
    }
   ],
   "source": [
    "predict(xgb,     \n",
    "    avg_payment=70,\n",
    "    total_payment=120,\n",
    "    payment_count=10,\n",
    "    fees_tot=0,\n",
    "    direct_debit_tot=0,\n",
    "    corporate_partnerships_tot=0,\n",
    "    volunteer_fundraising_tot=0,\n",
    "    lottery_tot=0,\n",
    "    legacy_tot=0,\n",
    "    trading_tot=0,\n",
    "    admin_tot=0,\n",
    "    catering_tot=0,\n",
    "    raffle_tot=0,\n",
    "    give_as_you_earn_tot=0,\n",
    "    in_memory_tot=0,\n",
    "    ig_tot=0,\n",
    "    favours_tot=0,\n",
    "    SEX_MF_CD_I='Male',\n",
    "    age_bands='18-25',\n",
    "    mosaic_description='Prestige Positions',\n",
    "    _Region='SOUTH EAST',\n",
    "    financial_stress='Very high')[0]"
   ]
  },
  {
   "cell_type": "code",
   "execution_count": 362,
   "metadata": {
    "collapsed": false
   },
   "outputs": [
    {
     "data": {
      "text/plain": [
       "144.20738"
      ]
     },
     "execution_count": 362,
     "metadata": {},
     "output_type": "execute_result"
    }
   ],
   "source": [
    "predict(xgb,     \n",
    "    avg_payment=70,\n",
    "    total_payment=200,\n",
    "    payment_count=10,\n",
    "    fees_tot=0,\n",
    "    direct_debit_tot=0,\n",
    "    corporate_partnerships_tot=0,\n",
    "    volunteer_fundraising_tot=0,\n",
    "    lottery_tot=0,\n",
    "    legacy_tot=0,\n",
    "    trading_tot=0,\n",
    "    admin_tot=0,\n",
    "    catering_tot=0,\n",
    "    raffle_tot=0,\n",
    "    give_as_you_earn_tot=0,\n",
    "    in_memory_tot=0,\n",
    "    ig_tot=0,\n",
    "    favours_tot=0,\n",
    "    SEX_MF_CD_I='Male',\n",
    "    age_bands='18-25',\n",
    "    mosaic_description='Prestige Positions',\n",
    "    _Region='SOUTH EAST',\n",
    "    financial_stress='Very high')[0]"
   ]
  },
  {
   "cell_type": "markdown",
   "metadata": {},
   "source": [
    "It works!\n",
    "\n",
    "\n",
    "\n",
    "\n",
    "Now let's look at feature importances:"
   ]
  },
  {
   "cell_type": "code",
   "execution_count": null,
   "metadata": {
    "collapsed": false
   },
   "outputs": [],
   "source": [
    "rf = RandomForestRegressor().fit(X, y)"
   ]
  },
  {
   "cell_type": "code",
   "execution_count": 366,
   "metadata": {
    "collapsed": false
   },
   "outputs": [
    {
     "data": {
      "text/plain": [
       "[('avg_payment', 0.27054952679363731),\n",
       " ('payment_count', 0.11109784439428642),\n",
       " ('sponsorship_donations_tot', 0.10802542802330488),\n",
       " ('log_total_payment', 0.1048016168070571),\n",
       " ('_Region', 0.099053940565889897),\n",
       " ('legacy_tot', 0.086503913004038063),\n",
       " ('mosaic_description', 0.054028815495789806),\n",
       " ('admin_tot', 0.048267545236706254),\n",
       " ('total_payment', 0.040130037301928684),\n",
       " ('age_bands', 0.026213292191812121),\n",
       " ('financial_stress', 0.019579193596506096),\n",
       " ('SEX_MF_CD_I', 0.015481441372049065),\n",
       " ('standing_orders_tot', 0.0079991940341969589),\n",
       " ('direct_debit_tot', 0.0039924532688030041),\n",
       " ('ig_tot', 0.0034206547034777656),\n",
       " ('volunteer_fundraising_tot', 0.00042901843090358325),\n",
       " ('fees_tot', 0.00029199990786417021),\n",
       " ('raffle_tot', 6.6620369921573377e-05),\n",
       " ('trading_tot', 6.0928734863128286e-05),\n",
       " ('favours_tot', 2.1661607097923877e-06),\n",
       " ('in_memory_tot', 2.1261277350116143e-06),\n",
       " ('corporate_partnerships_tot', 1.6143055171113528e-06),\n",
       " ('give_as_you_earn_tot', 4.3566778321426624e-07),\n",
       " ('lottery_tot', 1.8823291758857633e-07),\n",
       " ('catering_tot', 5.2723014008120681e-09)]"
      ]
     },
     "execution_count": 366,
     "metadata": {},
     "output_type": "execute_result"
    }
   ],
   "source": [
    "sorted(zip(feat_names, rf.feature_importances_), key=lambda (a,b): b, reverse=True)"
   ]
  },
  {
   "cell_type": "markdown",
   "metadata": {},
   "source": [
    "there"
   ]
  },
  {
   "cell_type": "markdown",
   "metadata": {},
   "source": [
    "Now, let's see if we can predict spend on individual categories the same way"
   ]
  },
  {
   "cell_type": "code",
   "execution_count": 368,
   "metadata": {
    "collapsed": true
   },
   "outputs": [],
   "source": [
    "train_n = 1000000\n",
    "\n",
    "\n",
    "target_name = 'direct_debit_tot'\n",
    "X = train_df[feat_names]\n",
    "y = train_df[target_name]\n",
    "\n",
    "X_train = X[:train_n]\n",
    "y_train = y[:train_n]\n",
    "\n",
    "X_test = X[train_n:]\n",
    "y_test = y[train_n:]\n"
   ]
  },
  {
   "cell_type": "code",
   "execution_count": 369,
   "metadata": {
    "collapsed": false
   },
   "outputs": [
    {
     "name": "stdout",
     "output_type": "stream",
     "text": [
      "MSE: 2.93272050496e-21 MAD: 4.19898324711e-11 LinearRegression\n",
      "MSE: 2.37473993394 MAD: 0.102375693874 XGBRegressor\n",
      "MSE: 4420.77418001 MAD: 43.7260311279 DummyRegressor\n",
      "MSE: 9.77101453058 MAD: 0.0171098624901 RandomForestRegressor\n"
     ]
    }
   ],
   "source": [
    "benchmark(LinearRegression())\n",
    "benchmark(XGBRegressor())\n",
    "benchmark(DummyRegressor())\n",
    "benchmark(RandomForestRegressor())"
   ]
  },
  {
   "cell_type": "markdown",
   "metadata": {},
   "source": [
    "Apparently we can! Linear regression explodes (I didn't one-hot encode categorical features) but XGBoost saves the day as always"
   ]
  },
  {
   "cell_type": "markdown",
   "metadata": {},
   "source": [
    "<img src=\"https://media.giphy.com/media/6O7ybdmHHJfoc/giphy.gif\">"
   ]
  },
  {
   "cell_type": "code",
   "execution_count": null,
   "metadata": {
    "collapsed": true
   },
   "outputs": [],
   "source": []
  }
 ],
 "metadata": {
  "kernelspec": {
   "display_name": "Python 2",
   "language": "python",
   "name": "python2"
  },
  "language_info": {
   "codemirror_mode": {
    "name": "ipython",
    "version": 2
   },
   "file_extension": ".py",
   "mimetype": "text/x-python",
   "name": "python",
   "nbconvert_exporter": "python",
   "pygments_lexer": "ipython2",
   "version": "2.7.12"
  }
 },
 "nbformat": 4,
 "nbformat_minor": 2
}
